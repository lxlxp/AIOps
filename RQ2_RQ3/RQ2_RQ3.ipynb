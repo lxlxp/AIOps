{
 "cells": [
  {
   "cell_type": "code",
   "execution_count": null,
   "metadata": {},
   "outputs": [],
   "source": [
    "import pandas as pd\n",
    "import preprocess as pre\n",
    "from nltk.tokenize import RegexpTokenizer\n",
    "from nltk.stem.wordnet import WordNetLemmatizer\n",
    "from gensim.models import Phrases\n",
    "# Remove rare and common tokens.\n",
    "from gensim.corpora import Dictionary\n",
    "# Train LDA model.\n",
    "from gensim.models import LdaModel\n",
    "from pprint import pprint\n",
    "import numpy as np\n",
    "import logging\n",
    "from gensim.models import CoherenceModel\n",
    "from preprocess import processbody\n"
   ]
  },
  {
   "cell_type": "code",
   "execution_count": null,
   "metadata": {
    "pycharm": {
     "name": "#%%\n"
    }
   },
   "outputs": [],
   "source": [
    "dataset = \"datadog\"\n",
    "df = pd.read_csv('../dataset/{}-aiops.csv'.format(dataset))\n",
    "docs = []\n",
    "df['clean_text'] = ''\n",
    "for index, row in df.iterrows():\n",
    "    title = processbody(row['title'])\n",
    "    body = processbody(row['body'])\n",
    "    s = (title+\" \"+body).strip()\n",
    "    df.at[index, 'clean_text'] = docs.append(s)\n",
    "\n",
    "print(len(docs))\n",
    "print(docs[0][:50])\n",
    "\n",
    "# Split the documents into tokens.\n",
    "tokenizer = RegexpTokenizer(r'\\w+')\n",
    "for idx in range(len(docs)):\n",
    "    docs[idx] = tokenizer.tokenize(docs[idx])  # Split into words.\n",
    "\n",
    "# Remove numbers, but not words that contain numbers.\n",
    "docs = [[token for token in doc if not token.isnumeric()] for doc in docs]\n",
    "\n",
    "# Remove words that are only one character.\n",
    "docs = [[token for token in doc if len(token) > 1] for doc in docs]\n",
    "docs = [[token for token in doc if len(token) <= 15] for doc in docs]\n",
    "np.save('{}_docs.npy'.format(dataset), np.array(docs))\n",
    "# docs = [doc for doc in docs if len(doc)>1]"
   ]
  },
  {
   "cell_type": "code",
   "execution_count": null,
   "metadata": {
    "pycharm": {
     "name": "#%%\n"
    }
   },
   "outputs": [],
   "source": [
    "# Create a dictionary representation of the documents.\n",
    "dictionary = Dictionary(docs)\n",
    "dictionary.filter_extremes(no_below=2)\n",
    "dictionary.save('{}.dict'.format(dataset))\n",
    "\n",
    "corpus = [dictionary.doc2bow(doc) for doc in docs]\n",
    "np.save('{}_corpus.npy'.format(dataset),np.array(corpus))\n",
    "# corpus = np.load('./data/dl2.npy', allow_pickle=True).tolist()\n",
    "\n",
    "print('Number of unique tokens: %d' % len(dictionary))\n",
    "print('Number of documents: %d' % len(corpus))"
   ]
  },
  {
   "cell_type": "code",
   "execution_count": null,
   "metadata": {},
   "outputs": [],
   "source": [
    "df = pd.read_csv(\"elastic-aiops.csv\")\n",
    "\n",
    "phase0 = df[df['phase']==0]\n",
    "phase1 = df[df['phase']==1]\n",
    "phase2 = df[df['phase']==2]\n",
    "phase3 = df[df['phase']==3]\n",
    "p01 = phase0[phase0['category'] == 'Installation']\n",
    "p02 = phase0[phase0['category'] == 'Third-party']\n",
    "p03 = phase0[phase0['category'] == 'Configuration']\n",
    "p11 = phase1[phase1['category'] == 'Method']\n",
    "p12 = phase1[phase1['category'] == 'Error']\n",
    "p13 = phase1[phase1['category'] == 'Parse']\n",
    "p21 = phase2[phase2['category'] == 'Storage']\n",
    "p22 = phase2[phase2['category'] == 'Query']\n",
    "p23 = phase2[phase2['category'] == 'Error']\n",
    "p31 = phase3[phase3['category'] == 'Visualization']\n",
    "p32 = phase3[phase3['category'] == 'Monitoring']"
   ]
  },
  {
   "cell_type": "code",
   "execution_count": null,
   "metadata": {
    "pycharm": {
     "name": "#%%\n"
    }
   },
   "outputs": [],
   "source": [
    "phase01_popularity = p01[['post_id','creation_date','view_count','answer_count','comment_count','favorite_count','score']]\n",
    "phase01col_mean = phase01_popularity[['view_count','answer_count','comment_count','favorite_count','score']].mean()\n",
    "\n",
    "phase02_popularity = p02[['post_id','creation_date','view_count','answer_count','comment_count','favorite_count','score']]\n",
    "phase02col_mean = phase02_popularity[['view_count','answer_count','comment_count','favorite_count','score']].mean()\n",
    "\n",
    "phase03_popularity = p03[['post_id','creation_date','view_count','answer_count','comment_count','favorite_count','score']]\n",
    "phase03col_mean = phase03_popularity[['view_count','answer_count','comment_count','favorite_count','score']].mean()\n",
    "\n",
    "phase11_popularity = p11[['post_id','creation_date','view_count','answer_count','comment_count','favorite_count','score']]\n",
    "phase11col_mean = phase11_popularity[['view_count','answer_count','comment_count','favorite_count','score']].mean()\n",
    "\n",
    "phase12_popularity = p12[['post_id','creation_date','view_count','answer_count','comment_count','favorite_count','score']]\n",
    "phase12col_mean = phase12_popularity[['view_count','answer_count','comment_count','favorite_count','score']].mean()\n",
    "\n",
    "phase13_popularity = p13[['post_id','creation_date','view_count','answer_count','comment_count','favorite_count','score']]\n",
    "phase13col_mean = phase13_popularity[['view_count','answer_count','comment_count','favorite_count','score']].mean()\n",
    "\n",
    "phase21_popularity = p21[['post_id','creation_date','view_count','answer_count','comment_count','favorite_count','score']]\n",
    "phase21col_mean = phase21_popularity[['view_count','answer_count','comment_count','favorite_count','score']].mean()\n",
    "\n",
    "phase22_popularity = p22[['post_id','creation_date','view_count','answer_count','comment_count','favorite_count','score']]\n",
    "phase22col_mean = phase22_popularity[['view_count','answer_count','comment_count','favorite_count','score']].mean()\n",
    "\n",
    "phase23_popularity = p23[['post_id','creation_date','view_count','answer_count','comment_count','favorite_count','score']]\n",
    "phase23col_mean = phase23_popularity[['view_count','answer_count','comment_count','favorite_count','score']].mean()\n",
    "\n",
    "phase31_popularity = p31[['post_id','creation_date','view_count','answer_count','comment_count','favorite_count','score']]\n",
    "phase31col_mean = phase31_popularity[['view_count','answer_count','comment_count','favorite_count','score']].mean()\n",
    "\n",
    "phase32_popularity = p32[['post_id','creation_date','view_count','answer_count','comment_count','favorite_count','score']]\n",
    "phase32col_mean = phase32_popularity[['view_count','answer_count','comment_count','favorite_count','score']].mean()\n"
   ]
  },
  {
   "cell_type": "code",
   "execution_count": null,
   "metadata": {
    "pycharm": {
     "name": "#%%\n"
    }
   },
   "outputs": [],
   "source": [
    "popularity = pd.concat([phase01col_mean, phase02col_mean, phase03col_mean, phase11col_mean, phase12col_mean, phase13col_mean, phase21col_mean, phase22col_mean, phase23col_mean, phase31col_mean, phase32col_mean], axis=1)\n",
    "#统计受欢迎程度\n",
    "# popularity.to_csv(\"{}-popularity.csv\".format(\"elastic\"))\n",
    "# print(popularity)"
   ]
  },
  {
   "cell_type": "code",
   "execution_count": null,
   "metadata": {
    "pycharm": {
     "name": "#%%\n"
    }
   },
   "outputs": [],
   "source": [
    "from sklearn.preprocessing import MinMaxScaler\n",
    "import mcdm\n",
    "scaler = MinMaxScaler()\n",
    "scaler.fit(popularity.T)\n",
    "scaled_features = scaler.transform(popularity.T)\n",
    "alt_names = [\"01\", \"02\", \"03\", \"11\", \"12\", \"13\", \"21\", \"22\", \"23\", \"31\", \"32\"]\n",
    "df_MinMax = pd.DataFrame(data=scaled_features, columns=[\"view_count\", \"answer_count\", \"comment_count\",\"favorite_count\", \"score\"])\n",
    "popularityrank = mcdm.rank(df_MinMax.values,alt_names=alt_names, n_method=\"Linear2\", w_method=\"CRITIC\", s_method=\"TOPSIS\")\n",
    "print(popularityrank)"
   ]
  },
  {
   "cell_type": "code",
   "execution_count": null,
   "metadata": {
    "pycharm": {
     "name": "#%%\n"
    }
   },
   "outputs": [],
   "source": [
    "difficulty1 = popularity.iloc[1]/popularity.iloc[0]\n",
    "difficulty1"
   ]
  },
  {
   "cell_type": "code",
   "execution_count": null,
   "metadata": {
    "pycharm": {
     "name": "#%%\n"
    }
   },
   "outputs": [],
   "source": [
    "import numpy as np\n",
    "cnt01 = 0\n",
    "for index, row in p01.iterrows():\n",
    "    if np.isnan(row['accepted_answer_id']):\n",
    "        cnt01 += 1\n",
    "\n",
    "cnt02 = 0\n",
    "for index, row in p02.iterrows():\n",
    "    if np.isnan(row['accepted_answer_id']):\n",
    "        cnt02 += 1\n",
    "\n",
    "cnt03 = 0\n",
    "for index, row in p03.iterrows():\n",
    "    if np.isnan(row['accepted_answer_id']):\n",
    "        cnt03 += 1\n",
    "\n",
    "cnt11 = 0\n",
    "for index, row in p11.iterrows():\n",
    "    if np.isnan(row['accepted_answer_id']):\n",
    "        cnt11 += 1\n",
    "\n",
    "cnt12 = 0\n",
    "for index, row in p12.iterrows():\n",
    "    if np.isnan(row['accepted_answer_id']):\n",
    "        cnt12 += 1\n",
    "\n",
    "cnt13 = 0\n",
    "for index, row in p13.iterrows():\n",
    "    if np.isnan(row['accepted_answer_id']):\n",
    "        cnt13 += 1\n",
    "\n",
    "cnt21 = 0\n",
    "for index, row in p21.iterrows():\n",
    "    if np.isnan(row['accepted_answer_id']):\n",
    "        cnt21 += 1\n",
    "\n",
    "cnt22 = 0\n",
    "for index, row in p22.iterrows():\n",
    "    if np.isnan(row['accepted_answer_id']):\n",
    "        cnt22 += 1\n",
    "\n",
    "cnt23 = 0\n",
    "for index, row in p23.iterrows():\n",
    "    if np.isnan(row['accepted_answer_id']):\n",
    "        cnt23 += 1\n",
    "\n",
    "cnt31 = 0\n",
    "for index, row in p31.iterrows():\n",
    "    if np.isnan(row['accepted_answer_id']):\n",
    "        cnt31 += 1\n",
    "\n",
    "cnt32 = 0\n",
    "for index, row in p32.iterrows():\n",
    "    if np.isnan(row['accepted_answer_id']):\n",
    "        cnt32 += 1\n"
   ]
  },
  {
   "cell_type": "code",
   "execution_count": null,
   "metadata": {
    "pycharm": {
     "name": "#%%\n"
    }
   },
   "outputs": [],
   "source": [
    "unanswered = np.array([cnt01, cnt02, cnt03, cnt11, cnt12, cnt13, cnt21, cnt22, cnt23, cnt31, cnt32], dtype=float)\n",
    "sum = np.array([len(p01), len(p02), len(p03), len(p11), len(p12), len(p13), len(p21), len(p22), len(p23), len(p31), len(p32)], dtype=float)\n",
    "w_o = unanswered/sum\n",
    "print(w_o)"
   ]
  },
  {
   "cell_type": "code",
   "execution_count": null,
   "metadata": {
    "pycharm": {
     "name": "#%%\n"
    }
   },
   "outputs": [],
   "source": [
    "data = [difficulty1.values, w_o]\n",
    "difficulty = pd.DataFrame(data=data, index=['pd', 'w/o'], columns=[\"01\", \"02\", \"03\", \"11\", \"12\", \"13\", \"21\", \"22\", \"23\", \"31\", \"32\"])\n",
    "difficulty[[\"01\", \"02\", \"03\", \"11\", \"12\", \"13\", \"21\", \"22\", \"23\", \"31\", \"32\"]]"
   ]
  },
  {
   "cell_type": "code",
   "execution_count": null,
   "metadata": {
    "pycharm": {
     "name": "#%%\n"
    }
   },
   "outputs": [],
   "source": [
    "import time\n",
    "import pymysql\n",
    "#连接数据库\n",
    "def connectDB():\n",
    "    # 打开数据库连接\n",
    "    db = pymysql.connect(host=\"localhost\", user=\"root\", password=\"Wangnima258\", database=\"aiops\")\n",
    "    print(\"连接上了...\")\n",
    "    return db\n",
    "#查询操作\n",
    "def queryDb(db, sql):\n",
    "    # 使用 cursor() 方法创建一个游标对象 cursor\n",
    "    cursor = db.cursor()\n",
    "    cursor.execute(sql)\n",
    "    # 获取所有记录列表\n",
    "    results = cursor.fetchone()\n",
    "    return results\n",
    "\n",
    "db = connectDB()\n",
    "cnt01 = 0\n",
    "span01 = 0\n",
    "for index, row in p01.iterrows():\n",
    "    if not np.isnan(row['accepted_answer_id']):\n",
    "        # print(row['CreationDate'])\n",
    "        start = time.mktime(time.strptime(row['creation_date'], '%Y-%m-%d %H:%M:%S'))\n",
    "        Aid = str(row['accepted_answer_id'])\n",
    "        sql = \"select creation_date from answers where post_id = \" + Aid\n",
    "        result = queryDb(db, sql)\n",
    "        if(result is None):\n",
    "            continue\n",
    "        # print(answer.iloc[0]['CreationDate'])\n",
    "        end = time.mktime(time.strptime(str(result[0]), '%Y-%m-%d %H:%M:%S'))\n",
    "        # days\n",
    "        span = round(end - start) / (3600*24)\n",
    "        span01 += span\n",
    "        cnt01 += 1\n",
    "hours01 = span01/cnt01\n",
    "\n",
    "cnt02 = 0\n",
    "span02 = 0\n",
    "for index, row in p02.iterrows():\n",
    "    if not np.isnan(row['accepted_answer_id']):\n",
    "        # print(row['CreationDate'])\n",
    "        start = time.mktime(time.strptime(row['creation_date'], '%Y-%m-%d %H:%M:%S'))\n",
    "        Aid = str(row['accepted_answer_id'])\n",
    "        sql = \"select creation_date from answers where post_id = \" + Aid\n",
    "        result = queryDb(db, sql)\n",
    "        if(result is None):\n",
    "            continue\n",
    "        # print(answer.iloc[0]['CreationDate'])\n",
    "        end = time.mktime(time.strptime(str(result[0]), '%Y-%m-%d %H:%M:%S'))\n",
    "        # days\n",
    "        span = round(end - start) / (3600*24)\n",
    "        span02 += span\n",
    "        cnt02 += 1\n",
    "hours02 = span02/cnt02\n",
    "\n",
    "cnt03 = 0\n",
    "span03 = 0\n",
    "for index, row in p03.iterrows():\n",
    "    if not np.isnan(row['accepted_answer_id']):\n",
    "        # print(row['CreationDate'])\n",
    "        start = time.mktime(time.strptime(row['creation_date'], '%Y-%m-%d %H:%M:%S'))\n",
    "        Aid = str(row['accepted_answer_id'])\n",
    "        sql = \"select creation_date from answers where post_id = \" + Aid\n",
    "        result = queryDb(db, sql)\n",
    "        if(result is None):\n",
    "            continue\n",
    "        # print(answer.iloc[0]['CreationDate'])\n",
    "        end = time.mktime(time.strptime(str(result[0]), '%Y-%m-%d %H:%M:%S'))\n",
    "        # days\n",
    "        span = round(end - start) / (3600*24)\n",
    "        span03 += span\n",
    "        cnt03 += 1\n",
    "hours03 = span03/cnt03\n",
    "\n",
    "cnt11 = 0\n",
    "span11 = 0\n",
    "for index, row in p11.iterrows():\n",
    "    if not np.isnan(row['accepted_answer_id']):\n",
    "        # print(row['CreationDate'])\n",
    "        start = time.mktime(time.strptime(row['creation_date'], '%Y-%m-%d %H:%M:%S'))\n",
    "        Aid = str(row['accepted_answer_id'])\n",
    "        sql = \"select creation_date from answers where post_id = \" + Aid\n",
    "        result = queryDb(db, sql)\n",
    "        if(result is None):\n",
    "            continue\n",
    "        # print(answer.iloc[0]['CreationDate'])\n",
    "        end = time.mktime(time.strptime(str(result[0]), '%Y-%m-%d %H:%M:%S'))\n",
    "        # days\n",
    "        span = round(end - start) / (3600*24)\n",
    "        span11 += span\n",
    "        cnt11 += 1\n",
    "hours11 = span11/cnt11\n",
    "\n",
    "cnt12 = 0\n",
    "span12 = 0\n",
    "for index, row in p12.iterrows():\n",
    "    if not np.isnan(row['accepted_answer_id']):\n",
    "        # print(row['CreationDate'])\n",
    "        start = time.mktime(time.strptime(row['creation_date'], '%Y-%m-%d %H:%M:%S'))\n",
    "        Aid = str(row['accepted_answer_id'])\n",
    "        sql = \"select creation_date from answers where post_id = \" + Aid\n",
    "        result = queryDb(db, sql)\n",
    "        if(result is None):\n",
    "            continue\n",
    "        # print(answer.iloc[0]['CreationDate'])\n",
    "        end = time.mktime(time.strptime(str(result[0]), '%Y-%m-%d %H:%M:%S'))\n",
    "        # days\n",
    "        span = round(end - start) / (3600*24)\n",
    "        span12 += span\n",
    "        cnt12 += 1\n",
    "hours12 = span12/cnt12\n",
    "\n",
    "cnt13 = 0\n",
    "span13 = 0\n",
    "for index, row in p13.iterrows():\n",
    "    if not np.isnan(row['accepted_answer_id']):\n",
    "        # print(row['CreationDate'])\n",
    "        start = time.mktime(time.strptime(row['creation_date'], '%Y-%m-%d %H:%M:%S'))\n",
    "        Aid = str(row['accepted_answer_id'])\n",
    "        sql = \"select creation_date from answers where post_id = \" + Aid\n",
    "        result = queryDb(db, sql)\n",
    "        if(result is None):\n",
    "            continue\n",
    "        # print(answer.iloc[0]['CreationDate'])\n",
    "        end = time.mktime(time.strptime(str(result[0]), '%Y-%m-%d %H:%M:%S'))\n",
    "        # days\n",
    "        span = round(end - start) / (3600*24)\n",
    "        span13 += span\n",
    "        cnt13 += 1\n",
    "hours13 = span13/cnt13\n",
    "\n",
    "cnt21 = 0\n",
    "span21 = 0\n",
    "for index, row in p21.iterrows():\n",
    "    if not np.isnan(row['accepted_answer_id']):\n",
    "        # print(row['CreationDate'])\n",
    "        start = time.mktime(time.strptime(row['creation_date'], '%Y-%m-%d %H:%M:%S'))\n",
    "        Aid = str(row['accepted_answer_id'])\n",
    "        sql = \"select creation_date from answers where post_id = \" + Aid\n",
    "        result = queryDb(db, sql)\n",
    "        if(result is None):\n",
    "            continue\n",
    "        # print(answer.iloc[0]['CreationDate'])\n",
    "        end = time.mktime(time.strptime(str(result[0]), '%Y-%m-%d %H:%M:%S'))\n",
    "        # days\n",
    "        span = round(end - start) / (3600*24)\n",
    "        span21 += span\n",
    "        cnt21 += 1\n",
    "hours21 = span21/cnt21\n",
    "\n",
    "cnt22 = 0\n",
    "span22 = 0\n",
    "for index, row in p22.iterrows():\n",
    "    if not np.isnan(row['accepted_answer_id']):\n",
    "        # print(row['CreationDate'])\n",
    "        start = time.mktime(time.strptime(row['creation_date'], '%Y-%m-%d %H:%M:%S'))\n",
    "        Aid = str(row['accepted_answer_id'])\n",
    "        sql = \"select creation_date from answers where post_id = \" + Aid\n",
    "        result = queryDb(db, sql)\n",
    "        if(result is None):\n",
    "            continue\n",
    "        # print(answer.iloc[0]['CreationDate'])\n",
    "        end = time.mktime(time.strptime(str(result[0]), '%Y-%m-%d %H:%M:%S'))\n",
    "        # days\n",
    "        span = round(end - start) / (3600*24)\n",
    "        span22 += span\n",
    "        cnt22 += 1\n",
    "hours22 = span22/cnt22\n",
    "\n",
    "cnt23 = 0\n",
    "span23 = 0\n",
    "for index, row in p23.iterrows():\n",
    "    if not np.isnan(row['accepted_answer_id']):\n",
    "        # print(row['CreationDate'])\n",
    "        start = time.mktime(time.strptime(row['creation_date'], '%Y-%m-%d %H:%M:%S'))\n",
    "        Aid = str(row['accepted_answer_id'])\n",
    "        sql = \"select creation_date from answers where post_id = \" + Aid\n",
    "        result = queryDb(db, sql)\n",
    "        if(result is None):\n",
    "            continue\n",
    "        # print(answer.iloc[0]['CreationDate'])\n",
    "        end = time.mktime(time.strptime(str(result[0]), '%Y-%m-%d %H:%M:%S'))\n",
    "        # days\n",
    "        span = round(end - start) / (3600*24)\n",
    "        span23 += span\n",
    "        cnt23 += 1\n",
    "hours23 = span23/cnt23\n",
    "\n",
    "cnt31 = 0\n",
    "span31 = 0\n",
    "for index, row in p31.iterrows():\n",
    "    if not np.isnan(row['accepted_answer_id']):\n",
    "        # print(row['CreationDate'])\n",
    "        start = time.mktime(time.strptime(row['creation_date'], '%Y-%m-%d %H:%M:%S'))\n",
    "        Aid = str(row['accepted_answer_id'])\n",
    "        sql = \"select creation_date from answers where post_id = \" + Aid\n",
    "        result = queryDb(db, sql)\n",
    "        if(result is None):\n",
    "            continue\n",
    "        # print(answer.iloc[0]['CreationDate'])\n",
    "        end = time.mktime(time.strptime(str(result[0]), '%Y-%m-%d %H:%M:%S'))\n",
    "        # days\n",
    "        span = round(end - start) / (3600*24)\n",
    "        span31 += span\n",
    "        cnt31 += 1\n",
    "hours31 = span31/cnt31\n",
    "\n",
    "cnt32 = 0\n",
    "span32 = 0\n",
    "for index, row in p32.iterrows():\n",
    "    if not np.isnan(row['accepted_answer_id']):\n",
    "        # print(row['CreationDate'])\n",
    "        start = time.mktime(time.strptime(row['creation_date'], '%Y-%m-%d %H:%M:%S'))\n",
    "        Aid = str(row['accepted_answer_id'])\n",
    "        sql = \"select creation_date from answers where post_id = \" + Aid\n",
    "        result = queryDb(db, sql)\n",
    "        if(result is None):\n",
    "            continue\n",
    "        # print(answer.iloc[0]['CreationDate'])\n",
    "        end = time.mktime(time.strptime(str(result[0]), '%Y-%m-%d %H:%M:%S'))\n",
    "        # days\n",
    "        span = round(end - start) / (3600*24)\n",
    "        span32 += span\n",
    "        cnt32 += 1\n",
    "hours32 = span32/cnt32\n",
    "\n",
    "db.close()"
   ]
  },
  {
   "cell_type": "code",
   "execution_count": null,
   "metadata": {
    "pycharm": {
     "name": "#%%\n"
    }
   },
   "outputs": [],
   "source": [
    "hours = np.array([hours01, hours02, hours03, hours11, hours12, hours13, hours21, hours22, hours23, hours31, hours32], dtype=float)\n",
    "data = [difficulty1.values, w_o, hours]\n",
    "difficulty = pd.DataFrame(data=data, index=['pd', 'w/o', 'days'], columns=[\"0\", \"1\", \"2\", \"3\"])\n",
    "# difficulty.to_csv(\"elastic-difficulty.csv\")"
   ]
  },
  {
   "cell_type": "code",
   "execution_count": null,
   "metadata": {
    "pycharm": {
     "name": "#%%\n"
    }
   },
   "outputs": [],
   "source": [
    "scaler.fit(difficulty.T)\n",
    "scaled_features = scaler.transform(difficulty.T)\n",
    "alt_names =[\"01\", \"02\", \"03\", \"11\", \"12\", \"13\", \"21\", \"22\", \"23\", \"31\", \"32\"]\n",
    "df_MinMax = pd.DataFrame(data=scaled_features, columns=['pd', 'w/o', 'days'])\n",
    "difficultyrank = mcdm.rank(df_MinMax.values, alt_names=alt_names,n_method=\"Linear2\", w_method=\"CRITIC\", s_method=\"TOPSIS\")\n",
    "difficultyrank"
   ]
  },
  {
   "cell_type": "code",
   "execution_count": null,
   "metadata": {
    "pycharm": {
     "name": "#%%\n"
    }
   },
   "outputs": [],
   "source": [
    "sdf = pd.read_csv(\"../dataset/splunk-aiops.csv\")\n",
    "sphase0 = sdf[sdf['phase']==0]\n",
    "sphase1 = sdf[sdf['phase']==1]\n",
    "sphase2 = sdf[sdf['phase']==2]\n",
    "sphase3 = sdf[sdf['phase']==3]\n",
    "sp01 = sphase0[sphase0['category'] == 'Installation']\n",
    "sp02 = sphase0[sphase0['category'] == 'Configuration']\n",
    "sp11 = sphase1[sphase1['category'] == 'Method']\n",
    "sp12 = sphase1[sphase1['category'] == 'Error']\n",
    "sp13 = sphase1[sphase1['category'] == 'Parse']\n",
    "sp21 = sphase2[sphase2['category'] == 'Query']\n",
    "sp22 = sphase2[sphase2['category'] == 'Error']\n",
    "sp31 = sphase3[sphase3['category'] == 'Visualization']\n",
    "sp32 = sphase3[sphase3['category'] == 'Monitoring']"
   ]
  },
  {
   "cell_type": "code",
   "execution_count": null,
   "metadata": {
    "pycharm": {
     "name": "#%%\n"
    }
   },
   "outputs": [],
   "source": [
    "sphase01_popularity = sp01[['post_id','creation_date','view_count','answer_count','comment_count','favorite_count','score']]\n",
    "sphase01col_mean = sphase01_popularity[['view_count','answer_count','comment_count','favorite_count','score']].mean()\n",
    "\n",
    "sphase02_popularity = sp02[['post_id','creation_date','view_count','answer_count','comment_count','favorite_count','score']]\n",
    "sphase02col_mean = sphase02_popularity[['view_count','answer_count','comment_count','favorite_count','score']].mean()\n",
    "\n",
    "sphase11_popularity = sp11[['post_id','creation_date','view_count','answer_count','comment_count','favorite_count','score']]\n",
    "sphase11col_mean = sphase11_popularity[['view_count','answer_count','comment_count','favorite_count','score']].mean()\n",
    "\n",
    "sphase12_popularity = sp12[['post_id','creation_date','view_count','answer_count','comment_count','favorite_count','score']]\n",
    "sphase12col_mean = sphase12_popularity[['view_count','answer_count','comment_count','favorite_count','score']].mean()\n",
    "\n",
    "sphase13_popularity = sp13[['post_id','creation_date','view_count','answer_count','comment_count','favorite_count','score']]\n",
    "sphase13col_mean = sphase13_popularity[['view_count','answer_count','comment_count','favorite_count','score']].mean()\n",
    "\n",
    "sphase21_popularity = sp21[['post_id','creation_date','view_count','answer_count','comment_count','favorite_count','score']]\n",
    "sphase21col_mean = sphase21_popularity[['view_count','answer_count','comment_count','favorite_count','score']].mean()\n",
    "\n",
    "sphase22_popularity = sp22[['post_id','creation_date','view_count','answer_count','comment_count','favorite_count','score']]\n",
    "sphase22col_mean = sphase22_popularity[['view_count','answer_count','comment_count','favorite_count','score']].mean()\n",
    "\n",
    "sphase31_popularity = sp31[['post_id','creation_date','view_count','answer_count','comment_count','favorite_count','score']]\n",
    "sphase31col_mean = sphase31_popularity[['view_count','answer_count','comment_count','favorite_count','score']].mean()\n",
    "\n",
    "sphase32_popularity = sp32[['post_id','creation_date','view_count','answer_count','comment_count','favorite_count','score']]\n",
    "sphase32col_mean = sphase32_popularity[['view_count','answer_count','comment_count','favorite_count','score']].mean()"
   ]
  },
  {
   "cell_type": "code",
   "execution_count": null,
   "metadata": {
    "pycharm": {
     "name": "#%%\n"
    }
   },
   "outputs": [],
   "source": [
    "spopularity = pd.concat([sphase01col_mean, sphase02col_mean, sphase11col_mean, spase12col_mean, sphase13col_mean, sphase21col_mean, sphase22col_mean, sphase31col_mean, sphase32col_mean], axis=1)\n"
   ]
  },
  {
   "cell_type": "code",
   "execution_count": null,
   "metadata": {
    "pycharm": {
     "name": "#%%\n"
    }
   },
   "outputs": [],
   "source": [
    "from sklearn.preprocessing import MinMaxScaler\n",
    "import mcdm\n",
    "scaler = MinMaxScaler()\n",
    "scaler.fit(spopularity.T)\n",
    "scaled_features = scaler.transform(spopularity.T)\n",
    "alt_names = [\"01\", \"02\", \"11\", \"12\", \"13\", \"21\", \"22\", \"31\", \"32\"]\n",
    "df_MinMax = pd.DataFrame(data=scaled_features, columns=[\"view_count\", \"answer_count\", \"comment_count\",\"favorite_count\", \"score\"])\n",
    "spopularityrank = mcdm.rank(df_MinMax.values, alt_names=alt_names,n_method=\"Linear2\", w_method=\"CRITIC\", s_method=\"TOPSIS\")\n",
    "spopularityrank"
   ]
  },
  {
   "cell_type": "code",
   "execution_count": null,
   "metadata": {
    "pycharm": {
     "name": "#%%\n"
    }
   },
   "outputs": [],
   "source": [
    "sdifficulty1 = spopularity.iloc[1]/spopularity.iloc[0]\n",
    "sdifficulty1"
   ]
  },
  {
   "cell_type": "code",
   "execution_count": null,
   "metadata": {
    "pycharm": {
     "name": "#%%\n"
    }
   },
   "outputs": [],
   "source": [
    "import numpy as np\n",
    "scnt01 = 0\n",
    "for index, row in sp01.iterrows():\n",
    "    if np.isnan(row['accepted_answer_id']):\n",
    "        scnt01 += 1\n",
    "\n",
    "scnt02 = 0\n",
    "for index, row in sp02.iterrows():\n",
    "    if np.isnan(row['accepted_answer_id']):\n",
    "        scnt02 += 1\n",
    "\n",
    "scnt11 = 0\n",
    "for index, row in sp11.iterrows():\n",
    "    if np.isnan(row['accepted_answer_id']):\n",
    "        scnt11 += 1\n",
    "\n",
    "scnt12 = 0\n",
    "for index, row in sp12.iterrows():\n",
    "    if np.isnan(row['accepted_answer_id']):\n",
    "        scnt12 += 1\n",
    "\n",
    "scnt13 = 0\n",
    "for index, row in sp13.iterrows():\n",
    "    if np.isnan(row['accepted_answer_id']):\n",
    "        scnt13 += 1\n",
    "\n",
    "scnt21 = 0\n",
    "for index, row in sp21.iterrows():\n",
    "    if np.isnan(row['accepted_answer_id']):\n",
    "        scnt21 += 1\n",
    "\n",
    "scnt22 = 0\n",
    "for index, row in sp22.iterrows():\n",
    "    if np.isnan(row['accepted_answer_id']):\n",
    "        scnt22 += 1\n",
    "\n",
    "scnt31 = 0\n",
    "for index, row in sp31.iterrows():\n",
    "    if np.isnan(row['accepted_answer_id']):\n",
    "        scnt31 += 1\n",
    "\n",
    "scnt32 = 0\n",
    "for index, row in sp32.iterrows():\n",
    "    if np.isnan(row['accepted_answer_id']):\n",
    "        scnt32 += 1\n"
   ]
  },
  {
   "cell_type": "code",
   "execution_count": null,
   "metadata": {
    "pycharm": {
     "name": "#%%\n"
    }
   },
   "outputs": [],
   "source": [
    "unanswered = np.array([scnt01, scnt02, scnt11, scnt12, scnt13, scnt21, scnt22, scnt31, scnt32], dtype=float)\n",
    "sum = np.array([len(sp01), len(sp02), len(sp11), len(sp12), len(sp13), len(sp21), len(sp22), len(sp31), len(sp32)], dtype=float)\n",
    "w_o = unanswered/sum\n",
    "print(w_o)"
   ]
  },
  {
   "cell_type": "code",
   "execution_count": null,
   "metadata": {
    "pycharm": {
     "name": "#%%\n"
    }
   },
   "outputs": [],
   "source": [
    "sdata = [sdifficulty1.values, w_o]\n",
    "sdifficulty = pd.DataFrame(data=data, index=['pd', 'w/o'], columns=[\"01\", \"02\", \"11\", \"12\", \"13\", \"21\", \"22\", \"31\", \"32\"])\n",
    "sdifficulty[[\"01\", \"02\", \"11\", \"12\", \"13\", \"21\", \"22\", \"31\", \"32\"]]"
   ]
  },
  {
   "cell_type": "code",
   "execution_count": null,
   "metadata": {
    "pycharm": {
     "name": "#%%\n"
    }
   },
   "outputs": [],
   "source": [
    "import time\n",
    "import pymysql\n",
    "#连接数据库\n",
    "def connectDB():\n",
    "    # 打开数据库连接\n",
    "    db = pymysql.connect(host=\"localhost\", user=\"root\", password=\"Wangnima258\", database=\"aiops\")\n",
    "    print(\"连接上了...\")\n",
    "    return db\n",
    "#查询操作\n",
    "def queryDb(db, sql):\n",
    "    # 使用 cursor() 方法创建一个游标对象 cursor\n",
    "    cursor = db.cursor()\n",
    "    cursor.execute(sql)\n",
    "    # 获取所有记录列表\n",
    "    results = cursor.fetchone()\n",
    "    return results\n",
    "\n",
    "db = connectDB()\n",
    "cnt01 = 0\n",
    "span01 = 0\n",
    "for index, row in sp01.iterrows():\n",
    "    if not np.isnan(row['accepted_answer_id']):\n",
    "        # print(row['CreationDate'])\n",
    "        start = time.mktime(time.strptime(row['creation_date'], '%Y-%m-%d %H:%M:%S'))\n",
    "        Aid = str(row['accepted_answer_id'])\n",
    "        sql = \"select creation_date from answers where post_id = \" + Aid\n",
    "        result = queryDb(db, sql)\n",
    "        if(result is None):\n",
    "            continue\n",
    "        # print(answer.iloc[0]['CreationDate'])\n",
    "        end = time.mktime(time.strptime(str(result[0]), '%Y-%m-%d %H:%M:%S'))\n",
    "        # days\n",
    "        span = round(end - start) / (3600*24)\n",
    "        span01 += span\n",
    "        cnt01 += 1\n",
    "hours01 = span01/cnt01\n",
    "\n",
    "cnt02 = 0\n",
    "span02 = 0\n",
    "for index, row in sp02.iterrows():\n",
    "    if not np.isnan(row['accepted_answer_id']):\n",
    "        # print(row['CreationDate'])\n",
    "        start = time.mktime(time.strptime(row['creation_date'], '%Y-%m-%d %H:%M:%S'))\n",
    "        Aid = str(row['accepted_answer_id'])\n",
    "        sql = \"select creation_date from answers where post_id = \" + Aid\n",
    "        result = queryDb(db, sql)\n",
    "        if(result is None):\n",
    "            continue\n",
    "        # print(answer.iloc[0]['CreationDate'])\n",
    "        end = time.mktime(time.strptime(str(result[0]), '%Y-%m-%d %H:%M:%S'))\n",
    "        # days\n",
    "        span = round(end - start) / (3600*24)\n",
    "        span02 += span\n",
    "        cnt02 += 1\n",
    "hours02 = span02/cnt02\n",
    "\n",
    "cnt11 = 0\n",
    "span11 = 0\n",
    "for index, row in sp11.iterrows():\n",
    "    if not np.isnan(row['accepted_answer_id']):\n",
    "        # print(row['CreationDate'])\n",
    "        start = time.mktime(time.strptime(row['creation_date'], '%Y-%m-%d %H:%M:%S'))\n",
    "        Aid = str(row['accepted_answer_id'])\n",
    "        sql = \"select creation_date from answers where post_id = \" + Aid\n",
    "        result = queryDb(db, sql)\n",
    "        if(result is None):\n",
    "            continue\n",
    "        # print(answer.iloc[0]['CreationDate'])\n",
    "        end = time.mktime(time.strptime(str(result[0]), '%Y-%m-%d %H:%M:%S'))\n",
    "        # days\n",
    "        span = round(end - start) / (3600*24)\n",
    "        span11 += span\n",
    "        cnt11 += 1\n",
    "hours11 = span11/cnt11\n",
    "\n",
    "cnt12 = 0\n",
    "span12 = 0\n",
    "for index, row in sp12.iterrows():\n",
    "    if not np.isnan(row['accepted_answer_id']):\n",
    "        # print(row['CreationDate'])\n",
    "        start = time.mktime(time.strptime(row['creation_date'], '%Y-%m-%d %H:%M:%S'))\n",
    "        Aid = str(row['accepted_answer_id'])\n",
    "        sql = \"select creation_date from answers where post_id = \" + Aid\n",
    "        result = queryDb(db, sql)\n",
    "        if(result is None):\n",
    "            continue\n",
    "        # print(answer.iloc[0]['CreationDate'])\n",
    "        end = time.mktime(time.strptime(str(result[0]), '%Y-%m-%d %H:%M:%S'))\n",
    "        # days\n",
    "        span = round(end - start) / (3600*24)\n",
    "        span12 += span\n",
    "        cnt12 += 1\n",
    "hours12 = span12/cnt12\n",
    "\n",
    "cnt13 = 0\n",
    "span13 = 0\n",
    "for index, row in sp13.iterrows():\n",
    "    if not np.isnan(row['accepted_answer_id']):\n",
    "        # print(row['CreationDate'])\n",
    "        start = time.mktime(time.strptime(row['creation_date'], '%Y-%m-%d %H:%M:%S'))\n",
    "        Aid = str(row['accepted_answer_id'])\n",
    "        sql = \"select creation_date from answers where post_id = \" + Aid\n",
    "        result = queryDb(db, sql)\n",
    "        if(result is None):\n",
    "            continue\n",
    "        # print(answer.iloc[0]['CreationDate'])\n",
    "        end = time.mktime(time.strptime(str(result[0]), '%Y-%m-%d %H:%M:%S'))\n",
    "        # days\n",
    "        span = round(end - start) / (3600*24)\n",
    "        span13 += span\n",
    "        cnt13 += 1\n",
    "hours13 = span13/cnt13\n",
    "\n",
    "cnt21 = 0\n",
    "span21 = 0\n",
    "for index, row in sp21.iterrows():\n",
    "    if not np.isnan(row['accepted_answer_id']):\n",
    "        # print(row['CreationDate'])\n",
    "        start = time.mktime(time.strptime(row['creation_date'], '%Y-%m-%d %H:%M:%S'))\n",
    "        Aid = str(row['accepted_answer_id'])\n",
    "        sql = \"select creation_date from answers where post_id = \" + Aid\n",
    "        result = queryDb(db, sql)\n",
    "        if(result is None):\n",
    "            continue\n",
    "        # print(answer.iloc[0]['CreationDate'])\n",
    "        end = time.mktime(time.strptime(str(result[0]), '%Y-%m-%d %H:%M:%S'))\n",
    "        # days\n",
    "        span = round(end - start) / (3600*24)\n",
    "        span21 += span\n",
    "        cnt21 += 1\n",
    "hours21 = span21/cnt21\n",
    "\n",
    "cnt22 = 0\n",
    "span22 = 0\n",
    "for index, row in sp22.iterrows():\n",
    "    if not np.isnan(row['accepted_answer_id']):\n",
    "        # print(row['CreationDate'])\n",
    "        start = time.mktime(time.strptime(row['creation_date'], '%Y-%m-%d %H:%M:%S'))\n",
    "        Aid = str(row['accepted_answer_id'])\n",
    "        sql = \"select creation_date from answers where post_id = \" + Aid\n",
    "        result = queryDb(db, sql)\n",
    "        if(result is None):\n",
    "            continue\n",
    "        # print(answer.iloc[0]['CreationDate'])\n",
    "        end = time.mktime(time.strptime(str(result[0]), '%Y-%m-%d %H:%M:%S'))\n",
    "        # days\n",
    "        span = round(end - start) / (3600*24)\n",
    "        span22 += span\n",
    "        cnt22 += 1\n",
    "hours22 = span22/cnt22\n",
    "\n",
    "cnt31 = 0\n",
    "span31 = 0\n",
    "for index, row in sp31.iterrows():\n",
    "    if not np.isnan(row['accepted_answer_id']):\n",
    "        # print(row['CreationDate'])\n",
    "        start = time.mktime(time.strptime(row['creation_date'], '%Y-%m-%d %H:%M:%S'))\n",
    "        Aid = str(row['accepted_answer_id'])\n",
    "        sql = \"select creation_date from answers where post_id = \" + Aid\n",
    "        result = queryDb(db, sql)\n",
    "        if(result is None):\n",
    "            continue\n",
    "        # print(answer.iloc[0]['CreationDate'])\n",
    "        end = time.mktime(time.strptime(str(result[0]), '%Y-%m-%d %H:%M:%S'))\n",
    "        # days\n",
    "        span = round(end - start) / (3600*24)\n",
    "        span31 += span\n",
    "        cnt31 += 1\n",
    "hours31 = span31/cnt31\n",
    "\n",
    "cnt32 = 0\n",
    "span32 = 0\n",
    "for index, row in sp32.iterrows():\n",
    "    if not np.isnan(row['accepted_answer_id']):\n",
    "        # print(row['CreationDate'])\n",
    "        start = time.mktime(time.strptime(row['creation_date'], '%Y-%m-%d %H:%M:%S'))\n",
    "        Aid = str(row['accepted_answer_id'])\n",
    "        sql = \"select creation_date from answers where post_id = \" + Aid\n",
    "        result = queryDb(db, sql)\n",
    "        if(result is None):\n",
    "            continue\n",
    "        # print(answer.iloc[0]['CreationDate'])\n",
    "        end = time.mktime(time.strptime(str(result[0]), '%Y-%m-%d %H:%M:%S'))\n",
    "        # days\n",
    "        span = round(end - start) / (3600*24)\n",
    "        span32 += span\n",
    "        cnt32 += 1\n",
    "hours32 = span32/cnt32\n",
    "\n",
    "db.close()"
   ]
  },
  {
   "cell_type": "code",
   "execution_count": null,
   "metadata": {
    "pycharm": {
     "name": "#%%\n"
    }
   },
   "outputs": [],
   "source": [
    "hours = np.array([hours01, hours02, hours11, hours12, hours13, hours21, hours22, hours31, hours32], dtype=float)\n",
    "data = [sdifficulty1.values, w_o, hours]\n",
    "sdifficulty = pd.DataFrame(data=data, index=['pd', 'w/o', 'days'], columns=[\"01\", \"02\", \"11\", \"12\", \"13\", \"21\", \"22\", \"31\", \"32\"])\n",
    "# splunkdifficulty.to_csv(\"splunk-difficulty.csv\")"
   ]
  },
  {
   "cell_type": "code",
   "execution_count": null,
   "metadata": {
    "pycharm": {
     "name": "#%%\n"
    }
   },
   "outputs": [],
   "source": [
    "scaler.fit(sdifficulty.T)\n",
    "scaled_features = scaler.transform(sdifficulty.T)\n",
    "alt_names = [\"01\", \"02\", \"11\", \"12\", \"13\", \"21\", \"22\", \"31\", \"32\"]\n",
    "df_MinMax = pd.DataFrame(data=scaled_features, columns=['pd', 'w/o', 'days'])\n",
    "splunkdifficultyrank = mcdm.rank(df_MinMax.values, alt_names=alt_names,n_method=\"Linear2\", w_method=\"CRITIC\", s_method=\"TOPSIS\")\n",
    "splunkdifficultyrank"
   ]
  },
  {
   "cell_type": "code",
   "execution_count": null,
   "metadata": {
    "pycharm": {
     "name": "#%%\n"
    }
   },
   "outputs": [],
   "source": [
    "ddf = pd.read_csv(\"datadog-aiops.csv\")\n",
    "dphase0 = ddf[ddf['phase']==0]\n",
    "dphase1 = ddf[ddf['phase']==1]\n",
    "dphase2 = ddf[ddf['phase']==2]\n",
    "dphase3 = ddf[ddf['phase']==3]\n",
    "dp01 = dphase0[dphase0['category'] == 'Integration']\n",
    "dp02 = dphase0[dphase0['category'] == 'Configuration']\n",
    "dp11 = dphase1[dphase1['category'] == 'Method']\n",
    "dp12 = dphase1[dphase1['category'] == 'Error']\n",
    "dp13 = dphase1[dphase1['category'] == 'Parse']\n",
    "dp21 = dphase2[dphase2['category'] == 'Query']\n",
    "dp31 = dphase3[dphase3['category'] == 'Visualization']\n",
    "dp32 = dphase3[dphase3['category'] == 'Monitoring']"
   ]
  },
  {
   "cell_type": "code",
   "execution_count": null,
   "metadata": {
    "pycharm": {
     "name": "#%%\n"
    }
   },
   "outputs": [],
   "source": [
    "dphase01_popularity = dp01[['post_id','creation_date','view_count','answer_count','comment_count','favorite_count','score']]\n",
    "dphase01col_mean = dphase01_popularity[['view_count','answer_count','comment_count','favorite_count','score']].mean()\n",
    "\n",
    "dphase02_popularity = dp02[['post_id','creation_date','view_count','answer_count','comment_count','favorite_count','score']]\n",
    "dphase02col_mean = dphase02_popularity[['view_count','answer_count','comment_count','favorite_count','score']].mean()\n",
    "\n",
    "dphase11_popularity = dp11[['post_id','creation_date','view_count','answer_count','comment_count','favorite_count','score']]\n",
    "dphase11col_mean = dphase11_popularity[['view_count','answer_count','comment_count','favorite_count','score']].mean()\n",
    "\n",
    "dphase12_popularity = dp12[['post_id','creation_date','view_count','answer_count','comment_count','favorite_count','score']]\n",
    "dphase12col_mean = dphase12_popularity[['view_count','answer_count','comment_count','favorite_count','score']].mean()\n",
    "\n",
    "dphase13_popularity = dp13[['post_id','creation_date','view_count','answer_count','comment_count','favorite_count','score']]\n",
    "dphase13col_mean = dphase13_popularity[['view_count','answer_count','comment_count','favorite_count','score']].mean()\n",
    "\n",
    "dphase21_popularity = dp21[['post_id','creation_date','view_count','answer_count','comment_count','favorite_count','score']]\n",
    "dphase21col_mean = dphase21_popularity[['view_count','answer_count','comment_count','favorite_count','score']].mean()\n",
    "\n",
    "dphase31_popularity = dp31[['post_id','creation_date','view_count','answer_count','comment_count','favorite_count','score']]\n",
    "dphase31col_mean = dphase31_popularity[['view_count','answer_count','comment_count','favorite_count','score']].mean()\n",
    "\n",
    "dphase32_popularity = dp32[['post_id','creation_date','view_count','answer_count','comment_count','favorite_count','score']]\n",
    "dphase32col_mean = dphase32_popularity[['view_count','answer_count','comment_count','favorite_count','score']].mean()"
   ]
  },
  {
   "cell_type": "code",
   "execution_count": null,
   "metadata": {
    "pycharm": {
     "name": "#%%\n"
    }
   },
   "outputs": [],
   "source": [
    "dpopularity = pd.concat([dphase01col_mean, dphase02col_mean, dphase11col_mean, dphase12col_mean, dphase13col_mean, dphase21col_mean, dphase31col_mean, dphase32col_mean], axis=1)\n",
    "#统计受欢迎程度\n",
    "# datadogpopularity.to_csv(\"{}-popularity.csv\".format(\"datadog\"))"
   ]
  },
  {
   "cell_type": "code",
   "execution_count": null,
   "metadata": {
    "pycharm": {
     "name": "#%%\n"
    }
   },
   "outputs": [],
   "source": [
    "from sklearn.preprocessing import MinMaxScaler\n",
    "import mcdm\n",
    "scaler = MinMaxScaler()\n",
    "scaler.fit(dpopularity.T)\n",
    "scaled_features = scaler.transform(dpopularity.T)\n",
    "alt_names = [\"01\", \"02\", \"11\", \"12\", \"13\", \"21\", \"31\", \"32\"]\n",
    "df_MinMax = pd.DataFrame(data=scaled_features, columns=[\"view_count\", \"answer_count\", \"comment_count\",\"favorite_count\", \"score\"])\n",
    "datadogpopularityrank = mcdm.rank(df_MinMax.values, alt_names=alt_names,n_method=\"Linear2\", w_method=\"CRITIC\", s_method=\"TOPSIS\")\n",
    "datadogpopularityrank"
   ]
  },
  {
   "cell_type": "code",
   "execution_count": null,
   "metadata": {
    "pycharm": {
     "name": "#%%\n"
    }
   },
   "outputs": [],
   "source": [
    "ddifficulty1 = dpopularity.iloc[1]/dpopularity.iloc[0]\n",
    "ddifficulty1"
   ]
  },
  {
   "cell_type": "code",
   "execution_count": null,
   "metadata": {
    "pycharm": {
     "name": "#%%\n"
    }
   },
   "outputs": [],
   "source": [
    "import numpy as np\n",
    "dcnt01 = 0\n",
    "for index, row in dp01.iterrows():\n",
    "    if np.isnan(row['accepted_answer_id']):\n",
    "        dcnt01 += 1\n",
    "\n",
    "dcnt02 = 0\n",
    "for index, row in dp02.iterrows():\n",
    "    if np.isnan(row['accepted_answer_id']):\n",
    "        dcnt02 += 1\n",
    "\n",
    "dcnt11 = 0\n",
    "for index, row in dp11.iterrows():\n",
    "    if np.isnan(row['accepted_answer_id']):\n",
    "        dcnt11 += 1\n",
    "\n",
    "dcnt12 = 0\n",
    "for index, row in dp12.iterrows():\n",
    "    if np.isnan(row['accepted_answer_id']):\n",
    "        dcnt12 += 1\n",
    "\n",
    "dcnt13 = 0\n",
    "for index, row in dp13.iterrows():\n",
    "    if np.isnan(row['accepted_answer_id']):\n",
    "        dcnt13 += 1\n",
    "\n",
    "dcnt21 = 0\n",
    "for index, row in dp21.iterrows():\n",
    "    if np.isnan(row['accepted_answer_id']):\n",
    "        dcnt21 += 1\n",
    "\n",
    "dcnt31 = 0\n",
    "for index, row in dp31.iterrows():\n",
    "    if np.isnan(row['accepted_answer_id']):\n",
    "        dcnt31 += 1\n",
    "\n",
    "dcnt32 = 0\n",
    "for index, row in dp32.iterrows():\n",
    "    if np.isnan(row['accepted_answer_id']):\n",
    "        dcnt32 += 1"
   ]
  },
  {
   "cell_type": "code",
   "execution_count": null,
   "metadata": {
    "pycharm": {
     "name": "#%%\n"
    }
   },
   "outputs": [],
   "source": [
    "unanswered = np.array([dcnt01, dcnt02, dcnt11, dcnt12, dcnt13, dcnt21, dcnt31, dcnt32], dtype=float)\n",
    "sum = np.array([len(dp01), len(dp02), len(dp11), len(dp12), len(dp13), len(dp21), len(dp31), len(dp32)], dtype=float)\n",
    "w_o = unanswered/sum\n",
    "print(w_o)"
   ]
  },
  {
   "cell_type": "code",
   "execution_count": null,
   "metadata": {
    "pycharm": {
     "name": "#%%\n"
    }
   },
   "outputs": [],
   "source": [
    "data = [ddifficulty1.values, w_o]\n",
    "ddifficulty = pd.DataFrame(data=data, index=['pd', 'w/o'], columns=[\"01\", \"02\", \"11\", \"12\", \"13\", \"21\", \"31\", \"32\"])\n",
    "ddifficulty[[\"01\", \"02\", \"11\", \"12\", \"13\", \"21\", \"31\", \"32\"]]"
   ]
  },
  {
   "cell_type": "code",
   "execution_count": null,
   "metadata": {
    "pycharm": {
     "name": "#%%\n"
    }
   },
   "outputs": [],
   "source": [
    "import time\n",
    "import pymysql\n",
    "#连接数据库\n",
    "def connectDB():\n",
    "    # 打开数据库连接\n",
    "    db = pymysql.connect(host=\"localhost\", user=\"root\", password=\"Wangnima258\", database=\"aiops\")\n",
    "    print(\"连接上了...\")\n",
    "    return db\n",
    "#查询操作\n",
    "def queryDb(db, sql):\n",
    "    # 使用 cursor() 方法创建一个游标对象 cursor\n",
    "    cursor = db.cursor()\n",
    "    cursor.execute(sql)\n",
    "    # 获取所有记录列表\n",
    "    results = cursor.fetchone()\n",
    "    return results\n",
    "db = connectDB()\n",
    "cnt01 = 0\n",
    "span01 = 0\n",
    "for index, row in sp01.iterrows():\n",
    "    if not np.isnan(row['accepted_answer_id']):\n",
    "        # print(row['CreationDate'])\n",
    "        start = time.mktime(time.strptime(row['creation_date'], '%Y-%m-%d %H:%M:%S'))\n",
    "        Aid = str(row['accepted_answer_id'])\n",
    "        sql = \"select creation_date from answers where post_id = \" + Aid\n",
    "        result = queryDb(db, sql)\n",
    "        if(result is None):\n",
    "            continue\n",
    "        # print(answer.iloc[0]['CreationDate'])\n",
    "        end = time.mktime(time.strptime(str(result[0]), '%Y-%m-%d %H:%M:%S'))\n",
    "        # days\n",
    "        span = round(end - start) / (3600*24)\n",
    "        span01 += span\n",
    "        cnt01 += 1\n",
    "hours01 = span01/cnt01\n",
    "\n",
    "cnt02 = 0\n",
    "span02 = 0\n",
    "for index, row in sp02.iterrows():\n",
    "    if not np.isnan(row['accepted_answer_id']):\n",
    "        # print(row['CreationDate'])\n",
    "        start = time.mktime(time.strptime(row['creation_date'], '%Y-%m-%d %H:%M:%S'))\n",
    "        Aid = str(row['accepted_answer_id'])\n",
    "        sql = \"select creation_date from answers where post_id = \" + Aid\n",
    "        result = queryDb(db, sql)\n",
    "        if(result is None):\n",
    "            continue\n",
    "        # print(answer.iloc[0]['CreationDate'])\n",
    "        end = time.mktime(time.strptime(str(result[0]), '%Y-%m-%d %H:%M:%S'))\n",
    "        # days\n",
    "        span = round(end - start) / (3600*24)\n",
    "        span02 += span\n",
    "        cnt02 += 1\n",
    "hours02 = span02/cnt02\n",
    "\n",
    "cnt11 = 0\n",
    "span11 = 0\n",
    "for index, row in dp11.iterrows():\n",
    "    if not np.isnan(row['accepted_answer_id']):\n",
    "        # print(row['CreationDate'])\n",
    "        start = time.mktime(time.strptime(row['creation_date'], '%Y-%m-%d %H:%M:%S'))\n",
    "        Aid = str(row['accepted_answer_id'])\n",
    "        sql = \"select creation_date from answers where post_id = \" + Aid\n",
    "        result = queryDb(db, sql)\n",
    "        if(result is None):\n",
    "            continue\n",
    "        # print(answer.iloc[0]['CreationDate'])\n",
    "        end = time.mktime(time.strptime(str(result[0]), '%Y-%m-%d %H:%M:%S'))\n",
    "        # days\n",
    "        span = round(end - start) / (3600*24)\n",
    "        span11 += span\n",
    "        cnt11 += 1\n",
    "hours11 = span11/cnt11\n",
    "\n",
    "cnt12 = 0\n",
    "span12 = 0\n",
    "for index, row in dp12.iterrows():\n",
    "    if not np.isnan(row['accepted_answer_id']):\n",
    "        # print(row['CreationDate'])\n",
    "        start = time.mktime(time.strptime(row['creation_date'], '%Y-%m-%d %H:%M:%S'))\n",
    "        Aid = str(row['accepted_answer_id'])\n",
    "        sql = \"select creation_date from answers where post_id = \" + Aid\n",
    "        result = queryDb(db, sql)\n",
    "        if(result is None):\n",
    "            continue\n",
    "        # print(answer.iloc[0]['CreationDate'])\n",
    "        end = time.mktime(time.strptime(str(result[0]), '%Y-%m-%d %H:%M:%S'))\n",
    "        # days\n",
    "        span = round(end - start) / (3600*24)\n",
    "        span12 += span\n",
    "        cnt12 += 1\n",
    "hours12 = span12/cnt12\n",
    "\n",
    "cnt13 = 0\n",
    "span13 = 0\n",
    "for index, row in dp13.iterrows():\n",
    "    if not np.isnan(row['accepted_answer_id']):\n",
    "        # print(row['CreationDate'])\n",
    "        start = time.mktime(time.strptime(row['creation_date'], '%Y-%m-%d %H:%M:%S'))\n",
    "        Aid = str(row['accepted_answer_id'])\n",
    "        sql = \"select creation_date from answers where post_id = \" + Aid\n",
    "        result = queryDb(db, sql)\n",
    "        if(result is None):\n",
    "            continue\n",
    "        # print(answer.iloc[0]['CreationDate'])\n",
    "        end = time.mktime(time.strptime(str(result[0]), '%Y-%m-%d %H:%M:%S'))\n",
    "        # days\n",
    "        span = round(end - start) / (3600*24)\n",
    "        span13 += span\n",
    "        cnt13 += 1\n",
    "hours13 = span13/cnt13\n",
    "\n",
    "cnt21 = 0\n",
    "span21 = 0\n",
    "for index, row in dp21.iterrows():\n",
    "    if not np.isnan(row['accepted_answer_id']):\n",
    "        # print(row['CreationDate'])\n",
    "        start = time.mktime(time.strptime(row['creation_date'], '%Y-%m-%d %H:%M:%S'))\n",
    "        Aid = str(row['accepted_answer_id'])\n",
    "        sql = \"select creation_date from answers where post_id = \" + Aid\n",
    "        result = queryDb(db, sql)\n",
    "        if(result is None):\n",
    "            continue\n",
    "        # print(answer.iloc[0]['CreationDate'])\n",
    "        end = time.mktime(time.strptime(str(result[0]), '%Y-%m-%d %H:%M:%S'))\n",
    "        # days\n",
    "        span = round(end - start) / (3600*24)\n",
    "        span21 += span\n",
    "        cnt21 += 1\n",
    "hours21 = span21/cnt21\n",
    "\n",
    "cnt31 = 0\n",
    "span31 = 0\n",
    "for index, row in dp31.iterrows():\n",
    "    if not np.isnan(row['accepted_answer_id']):\n",
    "        # print(row['CreationDate'])\n",
    "        start = time.mktime(time.strptime(row['creation_date'], '%Y-%m-%d %H:%M:%S'))\n",
    "        Aid = str(row['accepted_answer_id'])\n",
    "        sql = \"select creation_date from answers where post_id = \" + Aid\n",
    "        result = queryDb(db, sql)\n",
    "        if(result is None):\n",
    "            continue\n",
    "        # print(answer.iloc[0]['CreationDate'])\n",
    "        end = time.mktime(time.strptime(str(result[0]), '%Y-%m-%d %H:%M:%S'))\n",
    "        # days\n",
    "        span = round(end - start) / (3600*24)\n",
    "        span31 += span\n",
    "        cnt31 += 1\n",
    "hours31 = span31/cnt31\n",
    "\n",
    "cnt32 = 0\n",
    "span32 = 0\n",
    "for index, row in dp32.iterrows():\n",
    "    if not np.isnan(row['accepted_answer_id']):\n",
    "        # print(row['CreationDate'])\n",
    "        start = time.mktime(time.strptime(row['creation_date'], '%Y-%m-%d %H:%M:%S'))\n",
    "        Aid = str(row['accepted_answer_id'])\n",
    "        sql = \"select creation_date from answers where post_id = \" + Aid\n",
    "        result = queryDb(db, sql)\n",
    "        if(result is None):\n",
    "            continue\n",
    "        # print(answer.iloc[0]['CreationDate'])\n",
    "        end = time.mktime(time.strptime(str(result[0]), '%Y-%m-%d %H:%M:%S'))\n",
    "        # days\n",
    "        span = round(end - start) / (3600*24)\n",
    "        span32 += span\n",
    "        cnt32 += 1\n",
    "hours32 = span32/cnt32\n",
    "\n",
    "db.close()"
   ]
  },
  {
   "cell_type": "code",
   "execution_count": null,
   "metadata": {
    "pycharm": {
     "name": "#%%\n"
    }
   },
   "outputs": [],
   "source": [
    "hours = np.array([hours01, hours02, hours11, hours12, hours13, hours21, hours31, hours32], dtype=float)\n",
    "data = [ddifficulty1.values, w_o, hours]\n",
    "ddifficulty = pd.DataFrame(data=data, index=['pd', 'w/o', 'days'], columns=[\"01\", \"02\", \"11\", \"12\", \"13\", \"21\", \"31\", \"32\"])"
   ]
  },
  {
   "cell_type": "code",
   "execution_count": null,
   "metadata": {
    "pycharm": {
     "name": "#%%\n"
    }
   },
   "outputs": [],
   "source": [
    "scaler.fit(ddifficulty.T)\n",
    "scaled_features = scaler.transform(ddifficulty.T)\n",
    "alt_names = [\"01\", \"02\", \"11\", \"12\", \"13\", \"21\", \"31\", \"32\"]\n",
    "df_MinMax = pd.DataFrame(data=scaled_features, columns=['pd', 'w/o', 'days'])\n",
    "datadogdifficultyrank = mcdm.rank(df_MinMax.values, alt_names=alt_names,n_method=\"Linear2\", w_method=\"CRITIC\", s_method=\"TOPSIS\")\n",
    "datadogdifficultyrank"
   ]
  }
 ],
 "metadata": {
  "kernelspec": {
   "display_name": "Python 3 (ipykernel)",
   "language": "python",
   "name": "python3"
  },
  "language_info": {
   "codemirror_mode": {
    "name": "ipython",
    "version": 3
   },
   "file_extension": ".py",
   "mimetype": "text/x-python",
   "name": "python",
   "nbconvert_exporter": "python",
   "pygments_lexer": "ipython3",
   "version": "3.9.1"
  }
 },
 "nbformat": 4,
 "nbformat_minor": 1
}
